{
 "cells": [
  {
   "cell_type": "code",
   "execution_count": null,
   "id": "a8a45cf3",
   "metadata": {},
   "outputs": [],
   "source": [
    "from model.carvana_unet import load_UNet\n",
    "\n",
    "device = \"cuda\" if torch.cuda.is_available() else \"cpu\"\n",
    "model = load_UNet(\"../inference/param/carvana_unet.pth\", device)"
   ]
  },
  {
   "cell_type": "code",
   "execution_count": null,
   "id": "5569e76e",
   "metadata": {},
   "outputs": [],
   "source": []
  }
 ],
 "metadata": {
  "kernelspec": {
   "display_name": "jackwu",
   "language": "python",
   "name": "python3"
  },
  "language_info": {
   "codemirror_mode": {
    "name": "ipython",
    "version": 3
   },
   "file_extension": ".py",
   "mimetype": "text/x-python",
   "name": "python",
   "nbconvert_exporter": "python",
   "pygments_lexer": "ipython3",
   "version": "3.12.11"
  }
 },
 "nbformat": 4,
 "nbformat_minor": 5
}
