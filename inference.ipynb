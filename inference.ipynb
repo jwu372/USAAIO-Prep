{
 "cells": [
  {
   "cell_type": "code",
   "execution_count": 42,
   "id": "66a50cf3",
   "metadata": {},
   "outputs": [],
   "source": [
    "from trained_models.bin_ocr import load_model"
   ]
  },
  {
   "cell_type": "code",
   "execution_count": 43,
   "id": "91f8782c",
   "metadata": {},
   "outputs": [
    {
     "name": "stderr",
     "output_type": "stream",
     "text": [
      "/home/henry/Desktop/USAAIO/trained_models/bin_ocr.py:14: FutureWarning: You are using `torch.load` with `weights_only=False` (the current default value), which uses the default pickle module implicitly. It is possible to construct malicious pickle data which will execute arbitrary code during unpickling (See https://github.com/pytorch/pytorch/blob/main/SECURITY.md#untrusted-models for more details). In a future release, the default value for `weights_only` will be flipped to `True`. This limits the functions that could be executed during unpickling. Arbitrary objects will no longer be allowed to be loaded via this mode unless they are explicitly allowlisted by the user via `torch.serialization.add_safe_globals`. We recommend you start setting `weights_only=True` for any use case where you don't have full control of the loaded file. Please open an issue on GitHub for any issues related to this experimental feature.\n",
      "  checkpoint = torch.load(checkpoint_path, map_location=device)\n"
     ]
    }
   ],
   "source": [
    "model = load_model('./saved_params/bin_ocr.pth')"
   ]
  },
  {
   "cell_type": "code",
   "execution_count": 45,
   "id": "3439912c",
   "metadata": {},
   "outputs": [],
   "source": [
    "from sklearn.datasets import fetch_openml\n",
    "import torch, numpy as np\n",
    "\n",
    "mnist = fetch_openml('mnist_784', as_frame=False)\n",
    "\n",
    "oldX, oldY = mnist.data, mnist.target\n",
    "mask = (oldY == '0') | (oldY == '1')\n",
    "\n",
    "X, Y = oldX[mask], oldY[mask]"
   ]
  },
  {
   "cell_type": "code",
   "execution_count": 46,
   "id": "fa74cf28",
   "metadata": {},
   "outputs": [
    {
     "data": {
      "text/plain": [
       "(tensor([0.5419], grad_fn=<SigmoidBackward0>), '1')"
      ]
     },
     "execution_count": 46,
     "metadata": {},
     "output_type": "execute_result"
    }
   ],
   "source": [
    "model(torch.from_numpy(X[-1]).float() / 200), Y[-1]"
   ]
  },
  {
   "cell_type": "code",
   "execution_count": null,
   "id": "94596015",
   "metadata": {},
   "outputs": [
    {
     "data": {
      "text/plain": [
       "tensor([0.], grad_fn=<SigmoidBackward0>)"
      ]
     },
     "execution_count": 41,
     "metadata": {},
     "output_type": "execute_result"
    }
   ],
   "source": [
    "# Load test.png into a tensor and run a quick inference (grayscale 28x28 -> 784 vector)\n",
    "from PIL import Image\n",
    "import torch\n",
    "import numpy as np\n",
    "\n",
    "p = 'test.png'\n",
    "img = Image.open(p).convert('L') \n",
    "if img.size != (28, 28):\n",
    "    img = img.resize((28, 28))\n",
    "arr = np.array(img).astype(np.float32)\n",
    "\n",
    "tensor = torch.from_numpy(arr).float()           # shape (28,28)\n",
    "#flat = 255 - tensor.view(-1)                           # shape (784,)\n",
    "\n",
    "model(tensor.view(-1))\n"
   ]
  },
  {
   "cell_type": "code",
   "execution_count": null,
   "id": "56bc7daf",
   "metadata": {},
   "outputs": [],
   "source": []
  }
 ],
 "metadata": {
  "kernelspec": {
   "display_name": "jackwu",
   "language": "python",
   "name": "python3"
  },
  "language_info": {
   "codemirror_mode": {
    "name": "ipython",
    "version": 3
   },
   "file_extension": ".py",
   "mimetype": "text/x-python",
   "name": "python",
   "nbconvert_exporter": "python",
   "pygments_lexer": "ipython3",
   "version": "3.12.11"
  }
 },
 "nbformat": 4,
 "nbformat_minor": 5
}
