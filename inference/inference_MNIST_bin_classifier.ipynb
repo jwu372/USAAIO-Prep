{
 "cells": [
  {
   "cell_type": "code",
   "execution_count": 2,
   "id": "66a50cf3",
   "metadata": {},
   "outputs": [],
   "source": [
    "from model.MNIST_bin_classifier import load_BinClassifier"
   ]
  },
  {
   "cell_type": "code",
   "execution_count": 3,
   "id": "91f8782c",
   "metadata": {},
   "outputs": [
    {
     "name": "stderr",
     "output_type": "stream",
     "text": [
      "/home/henry/Desktop/USAAIO/inference/model/MNIST_bin_classifier.py:14: FutureWarning: You are using `torch.load` with `weights_only=False` (the current default value), which uses the default pickle module implicitly. It is possible to construct malicious pickle data which will execute arbitrary code during unpickling (See https://github.com/pytorch/pytorch/blob/main/SECURITY.md#untrusted-models for more details). In a future release, the default value for `weights_only` will be flipped to `True`. This limits the functions that could be executed during unpickling. Arbitrary objects will no longer be allowed to be loaded via this mode unless they are explicitly allowlisted by the user via `torch.serialization.add_safe_globals`. We recommend you start setting `weights_only=True` for any use case where you don't have full control of the loaded file. Please open an issue on GitHub for any issues related to this experimental feature.\n",
      "  checkpoint = torch.load(checkpoint_path, map_location=device)\n"
     ]
    }
   ],
   "source": [
    "import torch\n",
    "\n",
    "device = 'cuda' if torch.cuda.is_available() else 'cpu'\n",
    "model = load_BinClassifier('./param/MNIST_bin_classifier.pth', device=device)"
   ]
  },
  {
   "cell_type": "code",
   "execution_count": 4,
   "id": "3439912c",
   "metadata": {},
   "outputs": [],
   "source": [
    "from sklearn.datasets import fetch_openml\n",
    "\n",
    "mnist = fetch_openml('mnist_784', as_frame=False)\n",
    "\n",
    "old_X, old_y = mnist.data, mnist.target\n",
    "mask = (old_y == '0') | (old_y == '1')\n",
    "X, y = old_X[mask], old_y[mask].astype(\"int64\")\n",
    "\n",
    "split = int(len(X) * 6 / 7)\n",
    "test_X, test_y = torch.from_numpy(X[split:]).float().div(255).to(device), torch.from_numpy(y[split:]).float().to(device)"
   ]
  },
  {
   "cell_type": "code",
   "execution_count": 19,
   "id": "fa74cf28",
   "metadata": {},
   "outputs": [
    {
     "data": {
      "image/png": "[encoded data removed]",
      "text/plain": [
       "<Figure size 1200x300 with 1 Axes>"
      ]
     },
     "metadata": {},
     "output_type": "display_data"
    }
   ],
   "source": [
    "wrongInd = []\n",
    "\n",
    "model.eval()\n",
    "with torch.no_grad():\n",
    "    preds = torch.round(model(test_X))\n",
    "    preds = preds\n",
    "    labels = test_y\n",
    "    for i in range(len(test_X)):\n",
    "        if preds[i].item() != labels[i].item():\n",
    "            wrongInd.append(i)\n",
    "\n",
    "import matplotlib.pyplot as plt\n",
    "\n",
    "cols = 4\n",
    "rows = (len(wrongInd) + cols - 1) // cols\n",
    "plt.figure(figsize=(cols * 3, rows * 3))\n",
    "\n",
    "for i, idx in enumerate(wrongInd):\n",
    "    plt.subplot(rows, cols, i + 1)\n",
    "    plt.imshow(test_X[idx].view(28, 28).cpu())\n",
    "    plt.axis('off')\n",
    "    plt.title(int(test_y[idx].item()), fontsize=20)\n",
    "\n",
    "plt.tight_layout()\n",
    "plt.show()\n"
   ]
  },
  {
   "cell_type": "code",
   "execution_count": 18,
   "id": "94596015",
   "metadata": {},
   "outputs": [
    {
     "name": "stdout",
     "output_type": "stream",
     "text": [
      "This is a 1\n"
     ]
    },
    {
     "data": {
      "image/png": "[encoded data removed]",
      "text/plain": [
       "<Figure size 640x480 with 1 Axes>"
      ]
     },
     "metadata": {},
     "output_type": "display_data"
    }
   ],
   "source": [
    "from PIL import Image\n",
    "import torch\n",
    "import numpy as np\n",
    "\n",
    "p = './images/one.png'\n",
    "img = Image.open(p).convert('L') \n",
    "if img.size != (28, 28):\n",
    "    img = img.resize((28, 28))\n",
    "arr = np.array(img).astype(np.float32)\n",
    "\n",
    "tensor = torch.from_numpy(arr).float().to(device)\n",
    "flat = 1 - tensor / 255\n",
    "\n",
    "plt.imshow(flat.cpu())\n",
    "plt.axis('off')\n",
    "chance = model(flat.view(1, 784)).item()\n",
    "print(f'This is a {int(round(chance))}')"
   ]
  }
 ],
 "metadata": {
  "kernelspec": {
   "display_name": "jackwu",
   "language": "python",
   "name": "python3"
  },
  "language_info": {
   "codemirror_mode": {
    "name": "ipython",
    "version": 3
   },
   "file_extension": ".py",
   "mimetype": "text/x-python",
   "name": "python",
   "nbconvert_exporter": "python",
   "pygments_lexer": "ipython3",
   "version": "3.12.11"
  }
 },
 "nbformat": 4,
 "nbformat_minor": 5
}
