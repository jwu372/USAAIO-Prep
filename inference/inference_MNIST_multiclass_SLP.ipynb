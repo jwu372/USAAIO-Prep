{
 "cells": [
  {
   "cell_type": "code",
   "execution_count": 1,
   "id": "7f5b935a",
   "metadata": {},
   "outputs": [
    {
     "name": "stderr",
     "output_type": "stream",
     "text": [
      "/home/henry/Desktop/USAAIO/inference/model/MNIST_multiclass_SLP.py:14: FutureWarning: You are using `torch.load` with `weights_only=False` (the current default value), which uses the default pickle module implicitly. It is possible to construct malicious pickle data which will execute arbitrary code during unpickling (See https://github.com/pytorch/pytorch/blob/main/SECURITY.md#untrusted-models for more details). In a future release, the default value for `weights_only` will be flipped to `True`. This limits the functions that could be executed during unpickling. Arbitrary objects will no longer be allowed to be loaded via this mode unless they are explicitly allowlisted by the user via `torch.serialization.add_safe_globals`. We recommend you start setting `weights_only=True` for any use case where you don't have full control of the loaded file. Please open an issue on GitHub for any issues related to this experimental feature.\n",
      "  checkpoint = torch.load(checkpoint_path, map_location=device)\n"
     ]
    }
   ],
   "source": [
    "from model.MNIST_multiclass_SLP import load_MulticlassSLP\n",
    "\n",
    "model = load_MulticlassSLP('./param/MNIST_multiclass_SLP.pth')"
   ]
  },
  {
   "cell_type": "code",
   "execution_count": null,
   "id": "fab67cc0",
   "metadata": {},
   "outputs": [],
   "source": [
    "from sklearn.datasets import fetch_openml\n",
    "from torch.utils.data import TensorDataset, DataLoader\n",
    "import torch\n",
    "\n",
    "mnist = fetch_openml('mnist_784', as_frame=False)\n",
    "X_np = mnist.data.astype('float32') / 255.0\n",
    "y_np = mnist.target.astype(int)\n",
    "\n",
    "X = torch.from_numpy(X_np)\n",
    "y = torch.from_numpy(y_np).long()\n",
    "\n",
    "dataset = TensorDataset(X, y)\n",
    "dataloader = DataLoader(dataset, batch_size=64, shuffle=False)\n",
    "\n",
    "batch_X, batch_y = next(iter(dataloader))\n",
    "print(batch_X.shape, batch_y.shape)"
   ]
  }
 ],
 "metadata": {
  "kernelspec": {
   "display_name": "jackwu",
   "language": "python",
   "name": "python3"
  },
  "language_info": {
   "codemirror_mode": {
    "name": "ipython",
    "version": 3
   },
   "file_extension": ".py",
   "mimetype": "text/x-python",
   "name": "python",
   "nbconvert_exporter": "python",
   "pygments_lexer": "ipython3",
   "version": "3.12.11"
  }
 },
 "nbformat": 4,
 "nbformat_minor": 5
}
