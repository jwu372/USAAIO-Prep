{
 "cells": [
  {
   "cell_type": "code",
   "execution_count": 1,
   "id": "2aec5add",
   "metadata": {},
   "outputs": [
    {
     "data": {
      "text/plain": [
       "' END OF THIS PART '"
      ]
     },
     "execution_count": 1,
     "metadata": {},
     "output_type": "execute_result"
    }
   ],
   "source": [
    "# DO NOT CHANGE\n",
    "\n",
    "import numpy as np\n",
    "\n",
    "import matplotlib.pyplot as plt\n",
    "\n",
    "\"\"\" END OF THIS PART \"\"\""
   ]
  },
  {
   "cell_type": "markdown",
   "id": "eb7da498",
   "metadata": {},
   "source": [
    "# $F_n = F_{n-1} + F_{n-2} , \\ \\forall \\ n \\geq 2 .$"
   ]
  },
  {
   "cell_type": "markdown",
   "id": "5a38db6f",
   "metadata": {},
   "source": [
    "# Let $F_0=3, F_1=1$"
   ]
  },
  {
   "cell_type": "markdown",
   "id": "3677fbff",
   "metadata": {},
   "source": [
    "# $F_2 = 4, F_3 = 5, F_4 = 9, F_5 = 14$"
   ]
  },
  {
   "cell_type": "markdown",
   "id": "acc9ae57",
   "metadata": {},
   "source": [
    "<hr>"
   ]
  },
  {
   "cell_type": "markdown",
   "id": "4d2507a1",
   "metadata": {},
   "source": [
    "# $\\begin{bmatrix}F_n \\\\F_{n-1}\\end{bmatrix}= \\mathbf{A}\\begin{bmatrix}F_{n-1} \\\\F_{n-2}\\end{bmatrix}, \\ \\forall \\ n \\geq 2 ,$ where $\\mathbf{A} \\in \\Bbb R^{2 \\times 2}$."
   ]
  },
  {
   "cell_type": "markdown",
   "id": "67e472ee",
   "metadata": {},
   "source": [
    "# $\\begin{bmatrix}F_n \\\\F_{n-1}\\end{bmatrix}= \\begin{bmatrix}a & b \\\\ c & d\\end{bmatrix}\\begin{bmatrix}F_{n-1} \\\\F_{n-2}\\end{bmatrix}$"
   ]
  },
  {
   "cell_type": "markdown",
   "id": "c9898e8d",
   "metadata": {},
   "source": [
    "# $\\begin{bmatrix}F_n \\\\F_{n-1}\\end{bmatrix}= \\begin{bmatrix}aF_{n - 1} + bF_{n-2} \\\\ cF_{n - 1} + dF_{n-2}\\end{bmatrix}$"
   ]
  },
  {
   "cell_type": "markdown",
   "id": "cba5f3f9",
   "metadata": {},
   "source": [
    "# $\\mathbf{A} = \\begin{bmatrix}1 & 1 \\\\ 1 & 0\\end{bmatrix}$"
   ]
  },
  {
   "cell_type": "markdown",
   "id": "58ce5409",
   "metadata": {},
   "source": [
    "<hr>"
   ]
  },
  {
   "cell_type": "markdown",
   "id": "b862960e",
   "metadata": {},
   "source": [
    "# $\\mathbf{A}^\\top = \\begin{bmatrix}1 & 1 \\\\ 1 & 0\\end{bmatrix} = \\mathbf{A}$"
   ]
  },
  {
   "cell_type": "markdown",
   "id": "7d248c44",
   "metadata": {},
   "source": [
    "<hr>"
   ]
  },
  {
   "cell_type": "markdown",
   "id": "87826651",
   "metadata": {},
   "source": [
    "# Let $\\mathbf{U} \\in \\Bbb R^{N \\times N}$ be a real-valued symmetric matrix."
   ]
  },
  {
   "cell_type": "markdown",
   "id": "3a65c744",
   "metadata": {},
   "source": [
    "# $\\mathbf{U} \\mathbf{v} = \\lambda \\mathbf{v}, ~$ such that $~ \\lambda \\in \\Bbb R ~$ and $~ \\mathbf{v} \\in \\Bbb R^{N \\times 1}$"
   ]
  },
  {
   "cell_type": "markdown",
   "id": "b272152f",
   "metadata": {},
   "source": []
  }
 ],
 "metadata": {
  "kernelspec": {
   "display_name": "jackwu",
   "language": "python",
   "name": "python3"
  },
  "language_info": {
   "codemirror_mode": {
    "name": "ipython",
    "version": 3
   },
   "file_extension": ".py",
   "mimetype": "text/x-python",
   "name": "python",
   "nbconvert_exporter": "python",
   "pygments_lexer": "ipython3",
   "version": "3.12.11"
  }
 },
 "nbformat": 4,
 "nbformat_minor": 5
}
