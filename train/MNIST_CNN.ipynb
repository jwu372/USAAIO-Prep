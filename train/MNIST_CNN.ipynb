{
 "cells": [
  {
   "cell_type": "code",
   "execution_count": 4,
   "id": "9eb066da",
   "metadata": {},
   "outputs": [],
   "source": [
    "from sklearn.datasets import fetch_openml\n",
    "import torch\n",
    "\n",
    "mnist = fetch_openml('mnist_784', as_frame=False)\n",
    "device = 'cuda' if torch.cuda.is_available() else 'cpu'\n",
    "X = torch.from_numpy(mnist.data).float().to(device)\n",
    "Y = torch.from_numpy(mnist.target.astype(int)).to(device)"
   ]
  },
  {
   "cell_type": "code",
   "execution_count": 341,
   "id": "3417e93b",
   "metadata": {},
   "outputs": [],
   "source": [
    "import torch.nn.functional as F\n",
    "import torch.nn as nn\n",
    "\n",
    "class MulticlassCCN(nn.Module):\n",
    "    def __init__(self, c1=32, c2=64, fc_hidden=128):\n",
    "        \"\"\"\n",
    "        c1: number of channels after first conv layer\n",
    "        c2: number of channels after second conv layer\n",
    "        fc_hidden: number of hidden units in the fully connected layer\n",
    "        \"\"\"\n",
    "        super().__init__()\n",
    "        self.conv1 = nn.Conv2d(1, c1, kernel_size=3, padding=1)\n",
    "        self.conv2 = nn.Conv2d(c1, c2, kernel_size=3, padding=1)\n",
    "        self.fc1 = nn.Linear(c2 * 7 * 7, fc_hidden)\n",
    "        self.fc2 = nn.Linear(fc_hidden, 10)\n",
    "\n",
    "    def forward(self, X):\n",
    "        X = F.relu(self.conv1(X))       # (N, c1, 28, 28)\n",
    "        X = F.max_pool2d(X, 2, 2)       # (N, c1, 14, 14)\n",
    "        X = F.relu(self.conv2(X))       # (N, c2, 14, 14)\n",
    "        X = F.max_pool2d(X, 2, 2)       # (N, c2, 7, 7)\n",
    "        X = X.view(X.size(0), -1)       # flatten\n",
    "        X = F.relu(self.fc1(X))         # (N, fc_hidden)\n",
    "        X = self.fc2(X)                 # (N, 10)\n",
    "        return X\n"
   ]
  },
  {
   "cell_type": "code",
   "execution_count": null,
   "id": "83297f0d",
   "metadata": {},
   "outputs": [],
   "source": [
    "model = MulticlassCCN()\n",
    "criterion = nn.CrossEntropyLoss()\n",
    "optimizer = torch.optim.Adam(model.parameters(), lr=0.001)"
   ]
  }
 ],
 "metadata": {
  "kernelspec": {
   "display_name": "jackwu",
   "language": "python",
   "name": "python3"
  },
  "language_info": {
   "codemirror_mode": {
    "name": "ipython",
    "version": 3
   },
   "file_extension": ".py",
   "mimetype": "text/x-python",
   "name": "python",
   "nbconvert_exporter": "python",
   "pygments_lexer": "ipython3",
   "version": "3.12.11"
  }
 },
 "nbformat": 4,
 "nbformat_minor": 5
}
