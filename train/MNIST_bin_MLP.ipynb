{
 "cells": [
  {
   "cell_type": "code",
   "execution_count": 7,
   "id": "5d6cb5cd",
   "metadata": {},
   "outputs": [],
   "source": [
    "from sklearn.datasets import fetch_openml # From Scikit Learn, we get a function that is able to access datasets from OpenML via connecting to the internet\n",
    "\n",
    "mnist = fetch_openml('mnist_784', as_frame=False) # We fetch the MNIST dataset. This datatype functions like a dictionary with attribute access\n",
    "old_X, old_y = mnist.data, mnist.target # Split MNIST into images and their corresponding labels"
   ]
  },
  {
   "cell_type": "code",
   "execution_count": 8,
   "id": "2b4a0e60",
   "metadata": {},
   "outputs": [
    {
     "data": {
      "text/plain": [
       "(torch.Size([25336, 784]),\n",
       " torch.Size([25336, 1]),\n",
       " torch.Size([4224, 784]),\n",
       " torch.Size([4224, 1]))"
      ]
     },
     "execution_count": 8,
     "metadata": {},
     "output_type": "execute_result"
    }
   ],
   "source": [
    "import torch\n",
    "import numpy as np\n",
    "\n",
    "mask = (old_y == '0') | (old_y == '1')\n",
    "X, y = old_X[mask], old_y[mask].astype(np.int64) # Make X and y only show 0 and 1s. Turn the labels, a string, to integers.\n",
    "\n",
    "# Split dataset into training and testing\n",
    "split = int(len(X) * 6 / 7)\n",
    "device = 'cuda' if torch.cuda.is_available() else 'cpu'\n",
    "\n",
    "train_X_half = torch.from_numpy(X[:split]).float().to(device) / 255\n",
    "train_y_half = torch.from_numpy(y[:split]).float().view(-1, 1).to(device)\n",
    "test_X_half = torch.from_numpy(X[split:]).float().to(device) / 255\n",
    "test_y_half = torch.from_numpy(y[split:]).float().view(-1, 1).to(device)\n",
    "\n",
    "# Augment our dataset to get its inverted image and shuffle\n",
    "train_perm = torch.randperm(len(train_X_half) * 2)\n",
    "test_perm = torch.randperm(len(test_X_half) * 2)\n",
    "train_X = torch.vstack((train_X_half, 1 - train_X_half))[train_perm]\n",
    "test_X = torch.vstack((test_X_half, 1 - test_X_half))[test_perm]\n",
    "train_y = torch.vstack((train_y_half, train_y_half))[train_perm]\n",
    "test_y = torch.vstack((test_y_half, test_y_half))[test_perm]\n",
    "\n",
    "train_X.shape, train_y.shape, test_X.shape, test_y.shape"
   ]
  },
  {
   "cell_type": "code",
   "execution_count": 13,
   "id": "2112bf80",
   "metadata": {},
   "outputs": [],
   "source": [
    "import torch.nn as nn\n",
    "import torch.nn.functional as F\n",
    "\n",
    "in_dim = 784\n",
    "hidden_dim = 128\n",
    "out_dim = 1\n",
    "\n",
    "class BinMLP(nn.Module):\n",
    "    def __init__(self):\n",
    "        super().__init__()\n",
    "        self.W1 = nn.Parameter(torch.randn(in_dim, hidden_dim, device=device))\n",
    "        self.B1 = nn.Parameter(torch.randn(hidden_dim, device=device))\n",
    "        self.W2 = nn.Parameter(torch.randn(hidden_dim, out_dim, device=device))\n",
    "        self.B2 = nn.Parameter(torch.randn(out_dim, device=device))\n",
    "    \n",
    "    def forward(self, X):\n",
    "        X2 = X @ self.W1 + self.B1 # (25336, 784) @ (784, 128) + (128)\n",
    "        X3 = F.relu(X2) # Activation\n",
    "        X4 = X3 @ self.W2 + self.B2 # (25336, 128) @ (128, 1) + (1)\n",
    "        return X4 \n",
    "\n",
    "model = BinMLP()\n",
    "\n",
    "optimizer = torch.optim.Adam(model.parameters(), lr=0.001)\n",
    "criterion = nn.BCEWithLogitsLoss()\n",
    "epochs = 10000"
   ]
  },
  {
   "cell_type": "code",
   "execution_count": 14,
   "id": "0bcfa7f3",
   "metadata": {},
   "outputs": [
    {
     "name": "stdout",
     "output_type": "stream",
     "text": [
      "Epoch 0, Train Loss=37.2754, Test Loss=25.7800\n",
      "Epoch 1000, Train Loss=0.0008, Test Loss=0.0147\n",
      "Epoch 2000, Train Loss=0.0000, Test Loss=0.0132\n",
      "Epoch 3000, Train Loss=0.0000, Test Loss=0.0126\n",
      "Epoch 4000, Train Loss=0.0000, Test Loss=0.0122\n",
      "Epoch 5000, Train Loss=0.0000, Test Loss=0.0118\n",
      "Epoch 6000, Train Loss=0.0000, Test Loss=0.0114\n",
      "Epoch 7000, Train Loss=0.0000, Test Loss=0.0112\n",
      "Epoch 8000, Train Loss=0.0000, Test Loss=0.0109\n",
      "Epoch 9000, Train Loss=0.0000, Test Loss=0.0106\n"
     ]
    }
   ],
   "source": [
    "train_errors, test_errors = [], []\n",
    "\n",
    "num_batches = 2\n",
    "batch_size = len(train_X) // num_batches\n",
    "\n",
    "for epoch in range(epochs):\n",
    "    total_train_loss = 0.0 # Accumulate the losses\n",
    "    for i in range(num_batches):\n",
    "        start = i * batch_size\n",
    "        end = (i + 1) * batch_size if i < num_batches - 1 else len(train_X)\n",
    "        \n",
    "        xb = train_X[start:end]\n",
    "        yb = train_y[start:end]\n",
    "\n",
    "        logits = model(xb)\n",
    "        loss = criterion(logits, yb)\n",
    "\n",
    "        optimizer.zero_grad()\n",
    "        loss.backward()\n",
    "        optimizer.step()\n",
    "\n",
    "        total_train_loss += loss.item()\n",
    "\n",
    "    # average loss across all batches (to match full-batch semantics)\n",
    "    avg_train_loss = total_train_loss / num_batches\n",
    "\n",
    "    # evaluation (still full-batch, but you could batch test too if needed)\n",
    "    with torch.no_grad():\n",
    "        test_logits = model(test_X)\n",
    "        test_loss = F.binary_cross_entropy_with_logits(test_logits, test_y).item()\n",
    "\n",
    "    train_errors.append(avg_train_loss)\n",
    "    test_errors.append(test_loss)\n",
    "\n",
    "    if epoch % 1000 == 0:\n",
    "        print(f\"Epoch {epoch}, Train Loss={avg_train_loss:.4f}, Test Loss={test_loss:.4f}\")\n"
   ]
  },
  {
   "cell_type": "code",
   "execution_count": 15,
   "id": "c8f2cb9a",
   "metadata": {},
   "outputs": [
    {
     "data": {
      "image/png": "[encoded data removed]",
      "text/plain": [
       "<Figure size 640x480 with 1 Axes>"
      ]
     },
     "metadata": {},
     "output_type": "display_data"
    }
   ],
   "source": [
    "import matplotlib.pyplot as plt\n",
    "\n",
    "xAxis = torch.linspace(0, len(train_errors) - 1, len(train_errors))\n",
    "plt.plot(xAxis, train_errors, color='blue', linewidth=4, label='Train')\n",
    "plt.plot(xAxis, test_errors, color='red', label='Test')\n",
    "plt.title('Loss on BCE over epoch')\n",
    "plt.grid(linestyle='-.')\n",
    "plt.legend()\n",
    "plt.show()"
   ]
  },
  {
   "cell_type": "code",
   "execution_count": 25,
   "id": "1c818a0d",
   "metadata": {},
   "outputs": [],
   "source": [
    "torch.save(model.state_dict(), '../inference/param/MNIST_bin_perceptron.pth')"
   ]
  }
 ],
 "metadata": {
  "kernelspec": {
   "display_name": "jackwu",
   "language": "python",
   "name": "python3"
  },
  "language_info": {
   "codemirror_mode": {
    "name": "ipython",
    "version": 3
   },
   "file_extension": ".py",
   "mimetype": "text/x-python",
   "name": "python",
   "nbconvert_exporter": "python",
   "pygments_lexer": "ipython3",
   "version": "3.12.11"
  }
 },
 "nbformat": 4,
 "nbformat_minor": 5
}
